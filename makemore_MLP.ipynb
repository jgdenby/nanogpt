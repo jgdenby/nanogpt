{
 "cells": [
  {
   "cell_type": "code",
   "execution_count": 2,
   "metadata": {},
   "outputs": [],
   "source": [
    "import torch\n",
    "import torch.nn.functional as F\n",
    "import numpy as np\n",
    "import matplotlib.pyplot as plt"
   ]
  },
  {
   "cell_type": "markdown",
   "metadata": {},
   "source": [
    "MLP Approach:\n",
    "- construct look up table to convert words to N dimensional embedding vector; constitutes inputs to first layer of NN\n",
    "- NN hidden layer - fully connected tanh layer\n",
    "- output layer is size V (vocabulary) - softmax function creates probability distribution over vocabulary of words"
   ]
  },
  {
   "cell_type": "code",
   "execution_count": 22,
   "metadata": {},
   "outputs": [
    {
     "name": "stdout",
     "output_type": "stream",
     "text": [
      "['emma', 'olivia', 'ava', 'isabella', 'sophia', 'charlotte', 'mia', 'amelia']\n",
      "32033\n"
     ]
    }
   ],
   "source": [
    "words = open('names.txt', 'r').read().splitlines()\n",
    "print(words[:8])\n",
    "print(len(words))"
   ]
  },
  {
   "cell_type": "code",
   "execution_count": 23,
   "metadata": {},
   "outputs": [],
   "source": [
    "# build vocabulary of characters\n",
    "chars = sorted(list(set(''.join(words))))\n",
    "stoi = {s:i+1 for i, s in enumerate(chars)}\n",
    "stoi['.'] = 0\n",
    "itos = {i:s for s,i in stoi.items()}\n"
   ]
  },
  {
   "cell_type": "code",
   "execution_count": 24,
   "metadata": {},
   "outputs": [
    {
     "data": {
      "text/plain": [
       "'emma'"
      ]
     },
     "execution_count": 24,
     "metadata": {},
     "output_type": "execute_result"
    }
   ],
   "source": [
    "words[0]"
   ]
  },
  {
   "cell_type": "code",
   "execution_count": 25,
   "metadata": {},
   "outputs": [
    {
     "name": "stdout",
     "output_type": "stream",
     "text": [
      "emma\n",
      "... ---> e\n",
      "..e ---> m\n",
      ".em ---> m\n",
      "emm ---> a\n",
      "mma ---> .\n",
      "olivia\n",
      "... ---> o\n",
      "..o ---> l\n",
      ".ol ---> i\n",
      "oli ---> v\n",
      "liv ---> i\n",
      "ivi ---> a\n",
      "via ---> .\n",
      "ava\n",
      "... ---> a\n",
      "..a ---> v\n",
      ".av ---> a\n",
      "ava ---> .\n",
      "isabella\n",
      "... ---> i\n",
      "..i ---> s\n",
      ".is ---> a\n",
      "isa ---> b\n",
      "sab ---> e\n",
      "abe ---> l\n",
      "bel ---> l\n",
      "ell ---> a\n",
      "lla ---> .\n",
      "sophia\n",
      "... ---> s\n",
      "..s ---> o\n",
      ".so ---> p\n",
      "sop ---> h\n",
      "oph ---> i\n",
      "phi ---> a\n",
      "hia ---> .\n"
     ]
    }
   ],
   "source": [
    "# build dataset\n",
    "block_size = 3 # context length: how many characters constitute the input?\n",
    "X, Y = [], [] # input and output \n",
    "\n",
    "for w in words[:5]:\n",
    "    print(w)\n",
    "    context = [0] * block_size \n",
    "    for ch in w + '.':\n",
    "        ix = stoi[ch]\n",
    "        X.append(context)\n",
    "        Y.append(ix)\n",
    "        print(''.join(itos[i] for i in context), '--->', itos[ix])\n",
    "        context = context[1:] + [ix] # move forward one character and append\n",
    "\n",
    "X = torch.tensor(X)\n",
    "Y = torch.tensor(Y)\n",
    "\n",
    "\n",
    "\n"
   ]
  },
  {
   "cell_type": "code",
   "execution_count": 26,
   "metadata": {},
   "outputs": [
    {
     "data": {
      "text/plain": [
       "(torch.Size([32, 3]), torch.int64, torch.Size([32]), torch.int64)"
      ]
     },
     "execution_count": 26,
     "metadata": {},
     "output_type": "execute_result"
    }
   ],
   "source": [
    "X.shape, X.dtype, Y.shape, Y.dtype"
   ]
  },
  {
   "cell_type": "code",
   "execution_count": 50,
   "metadata": {},
   "outputs": [
    {
     "name": "stdout",
     "output_type": "stream",
     "text": [
      "tensor([-0.4713,  0.7868])\n",
      "tensor([-0.4713,  0.7868])\n",
      "tensor([[-0.4713,  0.7868],\n",
      "        [-0.3284, -0.4330],\n",
      "        [ 1.3729,  2.9334]])\n",
      "tensor([[-0.4713,  0.7868],\n",
      "        [-0.3284, -0.4330],\n",
      "        [ 1.3729,  2.9334],\n",
      "        [ 1.3729,  2.9334],\n",
      "        [ 1.3729,  2.9334],\n",
      "        [ 1.3729,  2.9334]])\n",
      "torch.Size([32, 3, 2])\n"
     ]
    }
   ],
   "source": [
    "g = torch.Generator().manual_seed(2147483647)\n",
    "# create embedding lookup table (v x d)\n",
    "v = len(chars)+1\n",
    "d = 2\n",
    "C = torch.randn((v, d), generator=g)\n",
    "\n",
    "# doing a lookup table indexing is equivalent to one-hot encoding and multiplying\n",
    "# first approach is faster\n",
    "print(C[5])\n",
    "print(F.one_hot(torch.tensor(5), num_classes=27).float() @ C)\n",
    "\n",
    "# Can use tensor indexing to take the input matrix and grab corresponding embeddings directly\n",
    "print(C[[5,6,7]])\n",
    "print(C[torch.tensor([5,6,7,7,7,7])])\n",
    "print(C[X].shape)"
   ]
  },
  {
   "cell_type": "code",
   "execution_count": 51,
   "metadata": {},
   "outputs": [
    {
     "name": "stdout",
     "output_type": "stream",
     "text": [
      "torch.Size([32, 3, 2])\n",
      "torch.Size([32, 6])\n"
     ]
    }
   ],
   "source": [
    "# input embedding layer\n",
    "emb = C[X]\n",
    "print(emb.shape)\n",
    "\n",
    "# flatten tensor to concatenate full bcontext window embeddings\n",
    "h = emb.view(-1, i)\n",
    "print(h.shape)"
   ]
  },
  {
   "cell_type": "code",
   "execution_count": 52,
   "metadata": {},
   "outputs": [
    {
     "name": "stdout",
     "output_type": "stream",
     "text": [
      "torch.Size([6, 100])\n",
      "torch.Size([100])\n",
      "torch.Size([32, 100])\n"
     ]
    }
   ],
   "source": [
    "# hidden layer\n",
    "# context window (3) * n_dimension (2) = 6\n",
    "# N neurons is up to us\n",
    "i = block_size * d\n",
    "j = 100\n",
    "\n",
    "W1 = torch.randn((i, j), generator = g)\n",
    "b1 = torch.randn(j, generator=g)\n",
    "print(W1.shape)\n",
    "print(b1.shape)\n",
    "h = torch.tanh(h @ W1 + b1)\n",
    "print(h.shape)\n"
   ]
  },
  {
   "cell_type": "code",
   "execution_count": 53,
   "metadata": {},
   "outputs": [
    {
     "name": "stdout",
     "output_type": "stream",
     "text": [
      "torch.Size([32, 27])\n"
     ]
    }
   ],
   "source": [
    "# Output layer\n",
    "W2 = torch.randn((j, v), generator=g)\n",
    "b2 = torch.randn(v, generator=g)\n",
    "\n",
    "logits = h @ W2 + b2\n",
    "print(logits.shape)\n",
    "counts = logits.exp()\n",
    "prob = counts / counts.sum(1, keepdim=True)\n"
   ]
  },
  {
   "cell_type": "code",
   "execution_count": 54,
   "metadata": {},
   "outputs": [
    {
     "name": "stdout",
     "output_type": "stream",
     "text": [
      "tensor(17.7697)\n"
     ]
    }
   ],
   "source": [
    "# grab NN's prob value for each actual output\n",
    "# for each example\n",
    "# convert to NLL\n",
    "loss = -prob[torch.arange(32), Y].log().mean()\n",
    "print(loss)"
   ]
  },
  {
   "cell_type": "code",
   "execution_count": null,
   "metadata": {},
   "outputs": [],
   "source": []
  },
  {
   "cell_type": "code",
   "execution_count": null,
   "metadata": {},
   "outputs": [],
   "source": []
  }
 ],
 "metadata": {
  "kernelspec": {
   "display_name": "nanogpt",
   "language": "python",
   "name": "nanogpt"
  },
  "language_info": {
   "codemirror_mode": {
    "name": "ipython",
    "version": 3
   },
   "file_extension": ".py",
   "mimetype": "text/x-python",
   "name": "python",
   "nbconvert_exporter": "python",
   "pygments_lexer": "ipython3",
   "version": "3.11.6"
  }
 },
 "nbformat": 4,
 "nbformat_minor": 2
}
