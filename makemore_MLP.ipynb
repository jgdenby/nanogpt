{
 "cells": [
  {
   "cell_type": "code",
   "execution_count": 1,
   "metadata": {},
   "outputs": [],
   "source": [
    "import torch\n",
    "import torch.nn.functional as F\n",
    "import numpy as np\n",
    "import matplotlib.pyplot as plt"
   ]
  },
  {
   "cell_type": "markdown",
   "metadata": {},
   "source": [
    "MLP Approach:\n",
    "- construct look up table to convert words to N dimensional embedding vector; constitutes inputs to first layer of NN\n",
    "- NN hidden layer - fully connected tanh layer\n",
    "- output layer is size V (vocabulary) - softmax function creates probability distribution over vocabulary of words"
   ]
  },
  {
   "cell_type": "code",
   "execution_count": 3,
   "metadata": {},
   "outputs": [
    {
     "name": "stdout",
     "output_type": "stream",
     "text": [
      "['emma', 'olivia', 'ava', 'isabella', 'sophia', 'charlotte', 'mia', 'amelia']\n",
      "32033\n"
     ]
    }
   ],
   "source": [
    "words = open('names.txt', 'r').read().splitlines()\n",
    "print(words[:8])\n",
    "print(len(words))"
   ]
  },
  {
   "cell_type": "code",
   "execution_count": 4,
   "metadata": {},
   "outputs": [],
   "source": [
    "# build vocabulary of characters\n",
    "chars = sorted(list(set(''.join(words))))\n",
    "stoi = {s:i+1 for i, s in enumerate(chars)}\n",
    "stoi['.'] = 0\n",
    "itos = {i:s for s,i in stoi.items()}\n"
   ]
  },
  {
   "cell_type": "code",
   "execution_count": 5,
   "metadata": {},
   "outputs": [
    {
     "data": {
      "text/plain": [
       "'emma'"
      ]
     },
     "execution_count": 5,
     "metadata": {},
     "output_type": "execute_result"
    }
   ],
   "source": [
    "words[0]"
   ]
  },
  {
   "cell_type": "code",
   "execution_count": 21,
   "metadata": {},
   "outputs": [],
   "source": [
    "# build dataset\n",
    "block_size = 3 # context length: how many characters constitute the input?\n",
    "X, Y = [], [] # input and output \n",
    "\n",
    "for w in words:\n",
    "    # print(w)\n",
    "    context = [0] * block_size \n",
    "    for ch in w + '.':\n",
    "        ix = stoi[ch]\n",
    "        X.append(context)\n",
    "        Y.append(ix)\n",
    "        # print(''.join(itos[i] for i in context), '--->', itos[ix])\n",
    "        context = context[1:] + [ix] # move forward one character and append\n",
    "\n",
    "X = torch.tensor(X)\n",
    "Y = torch.tensor(Y)\n",
    "\n",
    "\n",
    "\n"
   ]
  },
  {
   "cell_type": "code",
   "execution_count": 22,
   "metadata": {},
   "outputs": [
    {
     "data": {
      "text/plain": [
       "(torch.Size([228146, 3]), torch.int64, torch.Size([228146]), torch.int64)"
      ]
     },
     "execution_count": 22,
     "metadata": {},
     "output_type": "execute_result"
    }
   ],
   "source": [
    "X.shape, X.dtype, Y.shape, Y.dtype"
   ]
  },
  {
   "cell_type": "code",
   "execution_count": 8,
   "metadata": {},
   "outputs": [
    {
     "name": "stdout",
     "output_type": "stream",
     "text": [
      "tensor([-0.4713,  0.7868])\n",
      "tensor([-0.4713,  0.7868])\n",
      "tensor([[-0.4713,  0.7868],\n",
      "        [-0.3284, -0.4330],\n",
      "        [ 1.3729,  2.9334]])\n",
      "tensor([[-0.4713,  0.7868],\n",
      "        [-0.3284, -0.4330],\n",
      "        [ 1.3729,  2.9334],\n",
      "        [ 1.3729,  2.9334],\n",
      "        [ 1.3729,  2.9334],\n",
      "        [ 1.3729,  2.9334]])\n",
      "torch.Size([32, 3, 2])\n"
     ]
    }
   ],
   "source": [
    "g = torch.Generator().manual_seed(2147483647)\n",
    "# create embedding lookup table (v x d)\n",
    "v = len(chars)+1\n",
    "d = 2\n",
    "C = torch.randn((v, d), generator=g)\n",
    "\n",
    "# doing a lookup table indexing is equivalent to one-hot encoding and multiplying\n",
    "# first approach is faster\n",
    "print(C[5])\n",
    "print(F.one_hot(torch.tensor(5), num_classes=27).float() @ C)\n",
    "\n",
    "# Can use tensor indexing to take the input matrix and grab corresponding embeddings directly\n",
    "print(C[[5,6,7]])\n",
    "print(C[torch.tensor([5,6,7,7,7,7])])\n",
    "print(C[X].shape)"
   ]
  },
  {
   "cell_type": "code",
   "execution_count": 10,
   "metadata": {},
   "outputs": [
    {
     "name": "stdout",
     "output_type": "stream",
     "text": [
      "torch.Size([32, 3, 2])\n",
      "torch.Size([32, 6])\n"
     ]
    }
   ],
   "source": [
    "# input embedding layer\n",
    "emb = C[X]\n",
    "print(emb.shape)\n",
    "\n",
    "# flatten tensor to concatenate full context window embeddings\n",
    "i = block_size * d\n",
    "h = emb.view(-1, i)\n",
    "print(h.shape)"
   ]
  },
  {
   "cell_type": "code",
   "execution_count": 11,
   "metadata": {},
   "outputs": [
    {
     "name": "stdout",
     "output_type": "stream",
     "text": [
      "torch.Size([6, 100])\n",
      "torch.Size([100])\n",
      "torch.Size([32, 100])\n"
     ]
    }
   ],
   "source": [
    "# hidden layer\n",
    "# context window (3) * n_dimension (2) = 6\n",
    "# N neurons is up to us\n",
    "i = block_size * d\n",
    "j = 100\n",
    "\n",
    "W1 = torch.randn((i, j), generator = g)\n",
    "b1 = torch.randn(j, generator=g)\n",
    "print(W1.shape)\n",
    "print(b1.shape)\n",
    "h = torch.tanh(h @ W1 + b1)\n",
    "print(h.shape)\n"
   ]
  },
  {
   "cell_type": "code",
   "execution_count": 12,
   "metadata": {},
   "outputs": [
    {
     "name": "stdout",
     "output_type": "stream",
     "text": [
      "torch.Size([32, 27])\n"
     ]
    }
   ],
   "source": [
    "# Output layer\n",
    "W2 = torch.randn((j, v), generator=g)\n",
    "b2 = torch.randn(v, generator=g)\n",
    "\n",
    "logits = h @ W2 + b2\n",
    "print(logits.shape)\n",
    "counts = logits.exp()\n",
    "prob = counts / counts.sum(1, keepdim=True)\n"
   ]
  },
  {
   "cell_type": "code",
   "execution_count": 13,
   "metadata": {},
   "outputs": [
    {
     "data": {
      "text/plain": [
       "3481"
      ]
     },
     "execution_count": 13,
     "metadata": {},
     "output_type": "execute_result"
    }
   ],
   "source": [
    "params = [C, W1, b1, W2, b2]\n",
    "sum(p.nelement() for p in params)"
   ]
  },
  {
   "cell_type": "code",
   "execution_count": 14,
   "metadata": {},
   "outputs": [
    {
     "name": "stdout",
     "output_type": "stream",
     "text": [
      "tensor(17.7697)\n"
     ]
    }
   ],
   "source": [
    "# grab NN's prob value for each actual output\n",
    "# for each example\n",
    "# convert to NLL\n",
    "loss = -prob[torch.arange(32), Y].log().mean()\n",
    "print(loss)"
   ]
  },
  {
   "cell_type": "code",
   "execution_count": 17,
   "metadata": {},
   "outputs": [],
   "source": [
    "parameters = [C, W1, b1, W2, b2]\n",
    "for p in parameters:\n",
    "    p.requires_grad = True"
   ]
  },
  {
   "cell_type": "code",
   "execution_count": 20,
   "metadata": {},
   "outputs": [
    {
     "name": "stdout",
     "output_type": "stream",
     "text": [
      "0.3072108030319214\n"
     ]
    }
   ],
   "source": [
    "k = 1000\n",
    "\n",
    "for _ in range(k):\n",
    "    # forward pass\n",
    "    emb = C[X]\n",
    "    h = torch.tanh(emb.view(-1, i) @ W1 + b1)\n",
    "    logits = h @ W2 + b2 \n",
    "    loss = F.cross_entropy(logits, Y)\n",
    "\n",
    "\n",
    "    # backward pass\n",
    "    for p in parameters:\n",
    "        p.grad = None\n",
    "    loss.backward()\n",
    "    for p in parameters:\n",
    "        p.data += -.01 * p.grad\n",
    "print(loss.item())\n",
    "\n",
    "\n",
    "\n"
   ]
  },
  {
   "cell_type": "code",
   "execution_count": 34,
   "metadata": {},
   "outputs": [],
   "source": [
    "# More concise implementation\n",
    "# Parameters\n",
    "g = torch.Generator().manual_seed(2147483647)\n",
    "\n",
    "v = len(chars)+1 # size of vocabulary\n",
    "d = 2 # embedding dimensions\n",
    "i = block_size * d # length of full embedding input vector\n",
    "j = 100 # number of nodes in hidden layer\n",
    "\n",
    "C = torch.randn((v, d), generator=g)\n",
    "W1 = torch.randn((i, j), generator = g)\n",
    "b1 = torch.randn(j, generator=g)\n",
    "W2 = torch.randn((j, v), generator=g)\n",
    "b2 = torch.randn(v, generator=g)\n",
    "parameters = [C, W1, b1, W2, b2]\n"
   ]
  },
  {
   "cell_type": "code",
   "execution_count": 35,
   "metadata": {},
   "outputs": [],
   "source": [
    "for p in parameters:\n",
    "    p.requires_grad = True"
   ]
  },
  {
   "cell_type": "code",
   "execution_count": 53,
   "metadata": {},
   "outputs": [
    {
     "name": "stdout",
     "output_type": "stream",
     "text": [
      "3.0869922637939453\n",
      "2.6657216548919678\n",
      "2.711425542831421\n",
      "3.16888427734375\n",
      "2.989213228225708\n",
      "2.9418580532073975\n",
      "3.057060718536377\n",
      "3.4854986667633057\n",
      "2.8669891357421875\n",
      "3.7489635944366455\n",
      "3.2786831855773926\n",
      "3.6607577800750732\n",
      "2.7204909324645996\n",
      "3.0025904178619385\n",
      "3.130762815475464\n",
      "3.330831289291382\n",
      "2.6191914081573486\n",
      "3.380959987640381\n",
      "2.7354719638824463\n",
      "2.7938380241394043\n"
     ]
    }
   ],
   "source": [
    "k = 200\n",
    "batch_size = 32\n",
    "\n",
    "for it in range(k):\n",
    "    ix = torch.randint(0, X.shape[0], (batch_size, )) # minibatch\n",
    "    \n",
    "    # forward pass\n",
    "    emb = C[X[ix]]\n",
    "    h = torch.tanh(emb.view(-1, i) @ W1 + b1)\n",
    "    logits = h @ W2 + b2 \n",
    "    loss = F.cross_entropy(logits, Y[ix])\n",
    "    if it%10==0: print(loss.item())\n",
    "\n",
    "\n",
    "    # backward pass\n",
    "    for p in parameters:\n",
    "        p.grad = None\n",
    "    loss.backward()\n",
    "    for p in parameters:\n",
    "        p.data += -.01 * p.grad\n",
    "# print(loss.item())\n",
    "\n",
    "\n",
    "\n"
   ]
  },
  {
   "cell_type": "code",
   "execution_count": 54,
   "metadata": {},
   "outputs": [
    {
     "name": "stdout",
     "output_type": "stream",
     "text": [
      "2.976243495941162\n"
     ]
    }
   ],
   "source": [
    "# evaluate on full dataset\n",
    "# forward pass\n",
    "emb = C[X]\n",
    "h = torch.tanh(emb.view(-1, i) @ W1 + b1)\n",
    "logits = h @ W2 + b2 \n",
    "loss = F.cross_entropy(logits, Y)\n",
    "print(loss.item())"
   ]
  },
  {
   "cell_type": "code",
   "execution_count": 27,
   "metadata": {},
   "outputs": [
    {
     "data": {
      "text/plain": [
       "tensor([ 22270, 160234,  83752, 121874, 161253, 151696, 205667,  89200, 201097,\n",
       "        208441, 135973, 183249, 132000,  46186,  84685, 128673,  92590,  37097,\n",
       "        159037, 201308,  70525,  15000, 160363, 117602,  89467, 126700, 132770,\n",
       "        148990,  83629, 171593, 206838, 210088])"
      ]
     },
     "execution_count": 27,
     "metadata": {},
     "output_type": "execute_result"
    }
   ],
   "source": [
    "# implement minibatch training - index a random subset of the data for each pass\n",
    "batch_size = 32\n",
    "torch.randint(0, X.shape[0], (32, ))"
   ]
  },
  {
   "cell_type": "code",
   "execution_count": null,
   "metadata": {},
   "outputs": [],
   "source": []
  }
 ],
 "metadata": {
  "kernelspec": {
   "display_name": "nanogpt",
   "language": "python",
   "name": "nanogpt"
  },
  "language_info": {
   "codemirror_mode": {
    "name": "ipython",
    "version": 3
   },
   "file_extension": ".py",
   "mimetype": "text/x-python",
   "name": "python",
   "nbconvert_exporter": "python",
   "pygments_lexer": "ipython3",
   "version": "3.11.6"
  }
 },
 "nbformat": 4,
 "nbformat_minor": 2
}
